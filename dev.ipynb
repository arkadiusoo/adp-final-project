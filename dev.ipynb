{
 "cells": [
  {
   "metadata": {},
   "cell_type": "markdown",
   "source": "1. Wczytaj dane z folderu data",
   "id": "57dec05d1eea2686"
  },
  {
   "cell_type": "code",
   "id": "initial_id",
   "metadata": {
    "collapsed": true,
    "ExecuteTime": {
     "end_time": "2025-01-26T11:20:23.553320Z",
     "start_time": "2025-01-26T11:20:23.186967Z"
    }
   },
   "source": [
    "import pandas as pd\n",
    "import json\n",
    "\n",
    "rent_data = pd.read_csv('data/apartments_rent_pl_2023_11.csv')\n",
    "\n",
    "job_offers = json.load(open('data/justjoinit-2023-09-25.json'))"
   ],
   "outputs": [
    {
     "name": "stderr",
     "output_type": "stream",
     "text": [
      "IOPub data rate exceeded.\n",
      "The Jupyter server will temporarily stop sending output\n",
      "to the client in order to avoid crashing it.\n",
      "To change this limit, set the config variable\n",
      "`--ServerApp.iopub_data_rate_limit`.\n",
      "\n",
      "Current values:\n",
      "ServerApp.iopub_data_rate_limit=1000000.0 (bytes/sec)\n",
      "ServerApp.rate_limit_window=3.0 (secs)\n",
      "\n"
     ]
    }
   ],
   "execution_count": 3
  },
  {
   "metadata": {},
   "cell_type": "markdown",
   "source": "2. Wyfiltruj dane dla miast: Warsaw, Katowice, Wroclaw, Krakow",
   "id": "f4bff68f7dacb1eb"
  },
  {
   "metadata": {},
   "cell_type": "code",
   "outputs": [],
   "execution_count": null,
   "source": [
    "cities = [\"warszawa\", \"warsaw\", \"katowice\", \"wrocław\",\n",
    "          \"wroclaw\", \"kraków\", \"krakow\"]\n",
    "\n",
    "filtered_rent_data = rent_data[rent_data['city'].str.lower().isin(cities)]\n",
    "\n",
    "filtered_job_offers = []\n",
    "\n",
    "for offer in job_offers:\n",
    "    if offer.get('city', '').lower() in cities:\n",
    "        filtered_job_offers.append(offer)"
   ],
   "id": "63bc0aa198db33c5"
  }
 ],
 "metadata": {
  "kernelspec": {
   "display_name": "Python 3",
   "language": "python",
   "name": "python3"
  },
  "language_info": {
   "codemirror_mode": {
    "name": "ipython",
    "version": 2
   },
   "file_extension": ".py",
   "mimetype": "text/x-python",
   "name": "python",
   "nbconvert_exporter": "python",
   "pygments_lexer": "ipython2",
   "version": "2.7.6"
  }
 },
 "nbformat": 4,
 "nbformat_minor": 5
}
