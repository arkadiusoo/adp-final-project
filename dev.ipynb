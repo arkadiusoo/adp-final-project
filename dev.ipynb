{
 "cells": [
  {
   "metadata": {},
   "cell_type": "markdown",
   "source": "1. Wczytaj dane z folderu data",
   "id": "57dec05d1eea2686"
  },
  {
   "cell_type": "code",
   "id": "initial_id",
   "metadata": {
    "collapsed": true,
    "ExecuteTime": {
     "end_time": "2025-01-26T11:57:59.102222Z",
     "start_time": "2025-01-26T11:57:58.910913Z"
    }
   },
   "source": [
    "import pandas as pd\n",
    "import json\n",
    "import geopandas as gpd\n",
    "from shapely.geometry import Point\n",
    "import folium\n",
    "from folium.plugins import MarkerCluster\n",
    "\n",
    "rent_data = pd.read_csv('data/apartments_rent_pl_2023_11.csv')\n",
    "\n",
    "job_offers = json.load(open('data/justjoinit-2023-09-25.json'))"
   ],
   "outputs": [],
   "execution_count": 26
  },
  {
   "metadata": {},
   "cell_type": "markdown",
   "source": "2. Wyfiltruj dane dla miast: Warsaw, Katowice, Wroclaw, Krakow",
   "id": "f4bff68f7dacb1eb"
  },
  {
   "metadata": {
    "ExecuteTime": {
     "end_time": "2025-01-26T11:57:59.116193Z",
     "start_time": "2025-01-26T11:57:59.105770Z"
    }
   },
   "cell_type": "code",
   "source": [
    "cities = [\"warszawa\", \"warsaw\", \"katowice\", \"wrocław\",\n",
    "          \"wroclaw\", \"kraków\", \"krakow\"]\n",
    "\n",
    "filtered_rent_data = rent_data[rent_data['city'].str.lower().isin(cities)]\n",
    "\n",
    "filtered_job_offers = []\n",
    "\n",
    "for offer in job_offers:\n",
    "    if offer.get('city', '').lower() in cities:\n",
    "        filtered_job_offers.append(offer)"
   ],
   "id": "63bc0aa198db33c5",
   "outputs": [],
   "execution_count": 27
  },
  {
   "metadata": {},
   "cell_type": "markdown",
   "source": "3. Przekonwertuj dane na GeoDataFrame oraz przeprowadź projekcję CRS na EPSG:4326",
   "id": "6d0b31c3b2f752e1"
  },
  {
   "metadata": {
    "ExecuteTime": {
     "end_time": "2025-01-26T11:57:59.169900Z",
     "start_time": "2025-01-26T11:57:59.130180Z"
    }
   },
   "cell_type": "code",
   "source": [
    "\n",
    "rent_gdf = gpd.GeoDataFrame(\n",
    "    filtered_rent_data,\n",
    "    geometry=gpd.points_from_xy(filtered_rent_data['longitude'],\n",
    "                                filtered_rent_data['latitude']),\n",
    "    crs='EPSG:4326'\n",
    ")\n",
    "job_gdf = gpd.GeoDataFrame(\n",
    "    filtered_job_offers,\n",
    "    geometry=[Point(offer['longitude'], offer['latitude'])\n",
    "              for offer in filtered_job_offers],\n",
    "    crs=\"EPSG:4326\"\n",
    ")\n"
   ],
   "id": "bd48c2a27ad5faaf",
   "outputs": [],
   "execution_count": 28
  },
  {
   "metadata": {},
   "cell_type": "markdown",
   "source": "4. Utwórz mapę wycentrowaną na centrum Warszawy",
   "id": "4a5de434eda617ed"
  },
  {
   "metadata": {
    "ExecuteTime": {
     "end_time": "2025-01-26T11:57:59.187836Z",
     "start_time": "2025-01-26T11:57:59.183010Z"
    }
   },
   "cell_type": "code",
   "source": [
    "map_center = [52.2297, 21.0122]\n",
    "base_map = folium.Map(location=map_center, zoom_start=6, tiles=\"CartoDB Positron\")"
   ],
   "id": "40f0df49f367f365",
   "outputs": [],
   "execution_count": 29
  },
  {
   "metadata": {},
   "cell_type": "markdown",
   "source": "5. Utwórz wartstwy",
   "id": "c94fc99adda4cce6"
  },
  {
   "metadata": {
    "ExecuteTime": {
     "end_time": "2025-01-26T11:58:04.968866Z",
     "start_time": "2025-01-26T11:57:59.201211Z"
    }
   },
   "cell_type": "code",
   "source": [
    "rent_markers = MarkerCluster(name=\"Mieszkania\").add_to(base_map)\n",
    "\n",
    "for _, row in rent_gdf.iterrows():\n",
    "    folium.Marker(\n",
    "        location=[row.geometry.y, row.geometry.x],\n",
    "        popup=(\n",
    "            f\"<b>Miasto:</b> {row['city']}<br>\"\n",
    "            f\"<b>Cena:</b> {row['price']} PLN<br>\"\n",
    "            f\"<b>Metraż:</b> {row['squareMeters']} m²\"\n",
    "        ),\n",
    "        icon=folium.Icon(color=\"blue\", icon=\"home\", prefix=\"fa\"),\n",
    "    ).add_to(rent_markers)\n",
    "\n",
    "job_markers = MarkerCluster(name=\"Oferty pracy\").add_to(base_map)\n",
    "\n",
    "for _, row in job_gdf.iterrows():\n",
    "    folium.Marker(\n",
    "        location=[row.geometry.y, row.geometry.x],\n",
    "        popup=(\n",
    "            f\"<b>Miasto:</b> {row['city']}<br>\"\n",
    "            f\"<b>Stanowisko:</b> {row['title']}<br>\"\n",
    "            # f\"<b>Wynagrodzenie:</b> {row['salary']}\"\n",
    "        ),\n",
    "        icon=folium.Icon(color=\"green\", icon=\"briefcase\", prefix=\"fa\"),\n",
    "    ).add_to(job_markers)\n",
    "\n",
    "folium.LayerControl(collapsed=False).add_to(base_map)\n",
    "base_map.save('rent_map.html')"
   ],
   "id": "85e27dbf1a4081fa",
   "outputs": [],
   "execution_count": 30
  }
 ],
 "metadata": {
  "kernelspec": {
   "display_name": "Python 3",
   "language": "python",
   "name": "python3"
  },
  "language_info": {
   "codemirror_mode": {
    "name": "ipython",
    "version": 2
   },
   "file_extension": ".py",
   "mimetype": "text/x-python",
   "name": "python",
   "nbconvert_exporter": "python",
   "pygments_lexer": "ipython2",
   "version": "2.7.6"
  }
 },
 "nbformat": 4,
 "nbformat_minor": 5
}
